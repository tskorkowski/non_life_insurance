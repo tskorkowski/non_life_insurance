{
 "cells": [
  {
   "cell_type": "code",
   "execution_count": 9,
   "metadata": {},
   "outputs": [],
   "source": [
    "import pandas as pd\n",
    "\n",
    "clm_data ={'time' : [x for x in range(1,11)], 'N_t' : [1000,997,985,989,1056,1070,994,986,1093,1054], 'vol': 10*[10000]}\n",
    "df_claim = pd.DataFrame(data=clm_data)"
   ]
  },
  {
   "cell_type": "code",
   "execution_count": 13,
   "metadata": {},
   "outputs": [
    {
     "name": "stdout",
     "output_type": "stream",
     "text": [
      "0.10224\n"
     ]
    }
   ],
   "source": [
    "#method_of_moments\n",
    "lambda_frq = sum(df_claim.N_t)/len(df_claim)/10000\n",
    "print(lambda_frq)"
   ]
  }
 ],
 "metadata": {
  "kernelspec": {
   "display_name": "Python 3.10.8 ('.venv': venv)",
   "language": "python",
   "name": "python3"
  },
  "language_info": {
   "codemirror_mode": {
    "name": "ipython",
    "version": 3
   },
   "file_extension": ".py",
   "mimetype": "text/x-python",
   "name": "python",
   "nbconvert_exporter": "python",
   "pygments_lexer": "ipython3",
   "version": "3.10.8"
  },
  "orig_nbformat": 4,
  "vscode": {
   "interpreter": {
    "hash": "6b333cf8cf80aacf2d69668cc30ffac8fd6bb4ba72110b3b20313d33053ffaee"
   }
  }
 },
 "nbformat": 4,
 "nbformat_minor": 2
}
